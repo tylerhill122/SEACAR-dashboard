{
 "cells": [
  {
   "cell_type": "code",
   "execution_count": 1,
   "id": "8899e104",
   "metadata": {},
   "outputs": [],
   "source": [
    "import pandas as pd\n",
    "df = pd.read_csv(\"static/data/Discrete WQ - 5008.txt\", sep='|')"
   ]
  },
  {
   "cell_type": "code",
   "execution_count": 2,
   "id": "d077c1e5",
   "metadata": {},
   "outputs": [],
   "source": [
    "# Cleaning ProgramLocation names\n",
    "# adding station number column\n",
    "df['Station'] = [df.ProgramLocationID[i].replace('WIN_21FLUFSW_','').split('-')[2] for i in df.index]\n",
    "# allow numerical indexing on station column\n",
    "df['Station'] = df['Station'].astype(int)\n",
    "# program name column\n",
    "df['Program'] = [df.ProgramLocationID[i].replace('WIN_21FLUFSW_','').split('-')[1] for i in df.index]\n",
    "# drop old column\n",
    "df.drop(columns=['ProgramLocationID'], inplace=True)"
   ]
  },
  {
   "cell_type": "code",
   "execution_count": 3,
   "id": "3ebf6ff9",
   "metadata": {},
   "outputs": [],
   "source": [
    "prog_short = df.Program.unique()\n",
    "prog_long = ['Aripeka','Weeki Wachee','Chassahowtizka','Anclote','Hudson','Pithlachascotee','Homosassa','Crystal','Withlacoochee']"
   ]
  },
  {
   "cell_type": "code",
   "execution_count": 4,
   "id": "a06c0633",
   "metadata": {},
   "outputs": [],
   "source": [
    "df.Program = df.Program.replace(prog_short, prog_long)"
   ]
  },
  {
   "cell_type": "code",
   "execution_count": 5,
   "id": "0a4f5046",
   "metadata": {
    "scrolled": true
   },
   "outputs": [
    {
     "data": {
      "text/plain": [
       "array(['Dissolved Oxygen', 'Specific Conductivity',\n",
       "       'Colored dissolved organic matter, CDOM', 'pH',\n",
       "       'Dissolved Oxygen Saturation', 'Water Temperature'], dtype=object)"
      ]
     },
     "execution_count": 5,
     "metadata": {},
     "output_type": "execute_result"
    }
   ],
   "source": [
    "df.ParameterName.unique()"
   ]
  },
  {
   "cell_type": "code",
   "execution_count": 33,
   "id": "34de33fa",
   "metadata": {},
   "outputs": [],
   "source": [
    "def get_data(program, station):\n",
    "    data = df[(df.Program==program) & (df.Station==station)]\n",
    "    \n",
    "    temp = data[data.ParameterName=='Water Temperature']['ResultValue'].mean()\n",
    "    disox = data[data.ParameterName=='Dissolved Oxygen']['ResultValue'].mean()\n",
    "    spc = data[data.ParameterName=='Specific Conductivity']['ResultValue'].mean()\n",
    "    cdom = data[data.ParameterName=='Colored dissolved organic matter, CDOM']['ResultValue'].mean()\n",
    "    ph = data[data.ParameterName=='pH']['ResultValue'].mean()\n",
    "    disoxsat = data[data.ParameterName=='Dissolved Oxygen Saturation']['ResultValue'].mean()\n",
    "    \n",
    "    return data, temp, disox, spc, cdom, ph, disoxsat"
   ]
  },
  {
   "cell_type": "code",
   "execution_count": 34,
   "id": "02d4e581",
   "metadata": {},
   "outputs": [],
   "source": [
    "ari1 = get_data('Aripeka',1,'Water Temperature')"
   ]
  },
  {
   "cell_type": "code",
   "execution_count": 38,
   "id": "56ba46eb",
   "metadata": {},
   "outputs": [],
   "source": [
    "data = df[(df.Program=='Aripeka') & (df.Station==1) & (df.ParameterName=='Dissolved Oxygen')]"
   ]
  },
  {
   "cell_type": "code",
   "execution_count": 40,
   "id": "c5c998b8",
   "metadata": {},
   "outputs": [
    {
     "data": {
      "text/plain": [
       "7.824999999999999"
      ]
     },
     "execution_count": 40,
     "metadata": {},
     "output_type": "execute_result"
    }
   ],
   "source": [
    "data.ResultValue.mean()"
   ]
  },
  {
   "cell_type": "code",
   "execution_count": 37,
   "id": "24f9c37b",
   "metadata": {},
   "outputs": [
    {
     "data": {
      "text/plain": [
       "nan"
      ]
     },
     "execution_count": 37,
     "metadata": {},
     "output_type": "execute_result"
    }
   ],
   "source": [
    "ari1[2]"
   ]
  },
  {
   "cell_type": "code",
   "execution_count": 29,
   "id": "3cd44ec5",
   "metadata": {},
   "outputs": [],
   "source": [
    "temp = ari1[ari1.ParameterName=='Water Temperature']['ResultValue'].mean()\n",
    "disox = ari1[ari1.ParameterName=='Dissolved Oxygen']['ResultValue'].mean()\n",
    "spc = ari1[ari1.ParameterName=='Specific Conductivity']['ResultValue'].mean()\n",
    "cdom = ari1[ari1.ParameterName=='Colored dissolved organic matter, CDOM']['ResultValue'].mean()\n",
    "pH = ari1[ari1.ParameterName=='pH']['ResultValue'].mean()\n",
    "disoxsat = ari1[ari1.ParameterName=='Dissolved Oxygen Saturation']['ResultValue'].mean()"
   ]
  },
  {
   "cell_type": "code",
   "execution_count": null,
   "id": "83259514",
   "metadata": {},
   "outputs": [],
   "source": []
  }
 ],
 "metadata": {
  "kernelspec": {
   "display_name": "Python 3 (ipykernel)",
   "language": "python",
   "name": "python3"
  },
  "language_info": {
   "codemirror_mode": {
    "name": "ipython",
    "version": 3
   },
   "file_extension": ".py",
   "mimetype": "text/x-python",
   "name": "python",
   "nbconvert_exporter": "python",
   "pygments_lexer": "ipython3",
   "version": "3.11.4"
  }
 },
 "nbformat": 4,
 "nbformat_minor": 5
}
