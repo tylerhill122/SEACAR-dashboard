{
 "cells": [
  {
   "cell_type": "code",
   "execution_count": 87,
   "id": "eca4c0a9",
   "metadata": {},
   "outputs": [
    {
     "name": "stderr",
     "output_type": "stream",
     "text": [
      "C:\\Users\\Hill_T\\AppData\\Local\\Temp\\ipykernel_18692\\3694286185.py:4: DtypeWarning: Columns (12,22,23) have mixed types. Specify dtype option on import or set low_memory=False.\n",
      "  df = pd.read_csv('static/data/All_Oyster_Parameters-2023-Jun-05.txt', sep='|')\n"
     ]
    }
   ],
   "source": [
    "import pandas as pd\n",
    "import matplotlib.pyplot as plt\n",
    "# df = pd.read_csv('data/All_SAV_Parameters-2023-Jun-05.txt', sep='|')\n",
    "df = pd.read_csv('static/data/All_Oyster_Parameters-2023-Jun-05.txt', sep='|')"
   ]
  },
  {
   "cell_type": "code",
   "execution_count": 140,
   "id": "559a2ea8",
   "metadata": {},
   "outputs": [],
   "source": [
    "df.SampleDate = pd.to_datetime(df.SampleDate)"
   ]
  },
  {
   "cell_type": "code",
   "execution_count": 89,
   "id": "84246a9d",
   "metadata": {},
   "outputs": [
    {
     "data": {
      "text/html": [
       "<div>\n",
       "<style scoped>\n",
       "    .dataframe tbody tr th:only-of-type {\n",
       "        vertical-align: middle;\n",
       "    }\n",
       "\n",
       "    .dataframe tbody tr th {\n",
       "        vertical-align: top;\n",
       "    }\n",
       "\n",
       "    .dataframe thead th {\n",
       "        text-align: right;\n",
       "    }\n",
       "</style>\n",
       "<table border=\"1\" class=\"dataframe\">\n",
       "  <thead>\n",
       "    <tr style=\"text-align: right;\">\n",
       "      <th></th>\n",
       "      <th>RowID</th>\n",
       "      <th>ProgramID</th>\n",
       "      <th>ProgramName</th>\n",
       "      <th>ParameterName</th>\n",
       "      <th>LocationID</th>\n",
       "      <th>ProgramLocationID</th>\n",
       "      <th>ManagedAreaName</th>\n",
       "      <th>Region</th>\n",
       "      <th>SampleDate</th>\n",
       "      <th>Year</th>\n",
       "      <th>...</th>\n",
       "      <th>ReefIdentifier</th>\n",
       "      <th>LiveDate</th>\n",
       "      <th>LiveDate_Qualifier</th>\n",
       "      <th>LiveDate_MinEstDate</th>\n",
       "      <th>LiveDate_MaxEstDate</th>\n",
       "      <th>SampleAge_Stdev</th>\n",
       "      <th>UniversalReefID</th>\n",
       "      <th>MADup</th>\n",
       "      <th>DataFileName</th>\n",
       "      <th>AreaID</th>\n",
       "    </tr>\n",
       "  </thead>\n",
       "  <tbody>\n",
       "    <tr>\n",
       "      <th>0</th>\n",
       "      <td>1</td>\n",
       "      <td>5017</td>\n",
       "      <td>Northern Coastal Basins and Mosquito Lagoon Oy...</td>\n",
       "      <td>Shell Height</td>\n",
       "      <td>864533</td>\n",
       "      <td>MLC21</td>\n",
       "      <td>Mosquito Lagoon Aquatic Preserve</td>\n",
       "      <td>NE</td>\n",
       "      <td>2015-06-03 00:00:00.000</td>\n",
       "      <td>2015</td>\n",
       "      <td>...</td>\n",
       "      <td>MLC21</td>\n",
       "      <td>2015-06-03 00:00:00.0000000</td>\n",
       "      <td>Exact</td>\n",
       "      <td>NaN</td>\n",
       "      <td>NaN</td>\n",
       "      <td>NaN</td>\n",
       "      <td>173590.0</td>\n",
       "      <td>1</td>\n",
       "      <td>Data_5017F_Final.csv</td>\n",
       "      <td>29</td>\n",
       "    </tr>\n",
       "    <tr>\n",
       "      <th>1</th>\n",
       "      <td>2</td>\n",
       "      <td>5017</td>\n",
       "      <td>Northern Coastal Basins and Mosquito Lagoon Oy...</td>\n",
       "      <td>Shell Height</td>\n",
       "      <td>864533</td>\n",
       "      <td>MLC21</td>\n",
       "      <td>Mosquito Lagoon Aquatic Preserve</td>\n",
       "      <td>NE</td>\n",
       "      <td>2015-06-03 00:00:00.000</td>\n",
       "      <td>2015</td>\n",
       "      <td>...</td>\n",
       "      <td>MLC21</td>\n",
       "      <td>2015-06-03 00:00:00.0000000</td>\n",
       "      <td>Exact</td>\n",
       "      <td>NaN</td>\n",
       "      <td>NaN</td>\n",
       "      <td>NaN</td>\n",
       "      <td>173590.0</td>\n",
       "      <td>1</td>\n",
       "      <td>Data_5017F_Final.csv</td>\n",
       "      <td>29</td>\n",
       "    </tr>\n",
       "    <tr>\n",
       "      <th>2</th>\n",
       "      <td>3</td>\n",
       "      <td>5017</td>\n",
       "      <td>Northern Coastal Basins and Mosquito Lagoon Oy...</td>\n",
       "      <td>Shell Height</td>\n",
       "      <td>864533</td>\n",
       "      <td>MLC21</td>\n",
       "      <td>Mosquito Lagoon Aquatic Preserve</td>\n",
       "      <td>NE</td>\n",
       "      <td>2015-06-03 00:00:00.000</td>\n",
       "      <td>2015</td>\n",
       "      <td>...</td>\n",
       "      <td>MLC21</td>\n",
       "      <td>2015-06-03 00:00:00.0000000</td>\n",
       "      <td>Exact</td>\n",
       "      <td>NaN</td>\n",
       "      <td>NaN</td>\n",
       "      <td>NaN</td>\n",
       "      <td>173590.0</td>\n",
       "      <td>1</td>\n",
       "      <td>Data_5017F_Final.csv</td>\n",
       "      <td>29</td>\n",
       "    </tr>\n",
       "    <tr>\n",
       "      <th>3</th>\n",
       "      <td>4</td>\n",
       "      <td>5017</td>\n",
       "      <td>Northern Coastal Basins and Mosquito Lagoon Oy...</td>\n",
       "      <td>Shell Height</td>\n",
       "      <td>864533</td>\n",
       "      <td>MLC21</td>\n",
       "      <td>Mosquito Lagoon Aquatic Preserve</td>\n",
       "      <td>NE</td>\n",
       "      <td>2015-06-03 00:00:00.000</td>\n",
       "      <td>2015</td>\n",
       "      <td>...</td>\n",
       "      <td>MLC21</td>\n",
       "      <td>2015-06-03 00:00:00.0000000</td>\n",
       "      <td>Exact</td>\n",
       "      <td>NaN</td>\n",
       "      <td>NaN</td>\n",
       "      <td>NaN</td>\n",
       "      <td>173590.0</td>\n",
       "      <td>1</td>\n",
       "      <td>Data_5017F_Final.csv</td>\n",
       "      <td>29</td>\n",
       "    </tr>\n",
       "    <tr>\n",
       "      <th>4</th>\n",
       "      <td>5</td>\n",
       "      <td>5017</td>\n",
       "      <td>Northern Coastal Basins and Mosquito Lagoon Oy...</td>\n",
       "      <td>Shell Height</td>\n",
       "      <td>864533</td>\n",
       "      <td>MLC21</td>\n",
       "      <td>Mosquito Lagoon Aquatic Preserve</td>\n",
       "      <td>NE</td>\n",
       "      <td>2015-06-03 00:00:00.000</td>\n",
       "      <td>2015</td>\n",
       "      <td>...</td>\n",
       "      <td>MLC21</td>\n",
       "      <td>2015-06-03 00:00:00.0000000</td>\n",
       "      <td>Exact</td>\n",
       "      <td>NaN</td>\n",
       "      <td>NaN</td>\n",
       "      <td>NaN</td>\n",
       "      <td>173590.0</td>\n",
       "      <td>1</td>\n",
       "      <td>Data_5017F_Final.csv</td>\n",
       "      <td>29</td>\n",
       "    </tr>\n",
       "  </tbody>\n",
       "</table>\n",
       "<p>5 rows × 29 columns</p>\n",
       "</div>"
      ],
      "text/plain": [
       "   RowID  ProgramID                                        ProgramName  \\\n",
       "0      1       5017  Northern Coastal Basins and Mosquito Lagoon Oy...   \n",
       "1      2       5017  Northern Coastal Basins and Mosquito Lagoon Oy...   \n",
       "2      3       5017  Northern Coastal Basins and Mosquito Lagoon Oy...   \n",
       "3      4       5017  Northern Coastal Basins and Mosquito Lagoon Oy...   \n",
       "4      5       5017  Northern Coastal Basins and Mosquito Lagoon Oy...   \n",
       "\n",
       "  ParameterName  LocationID ProgramLocationID  \\\n",
       "0  Shell Height      864533             MLC21   \n",
       "1  Shell Height      864533             MLC21   \n",
       "2  Shell Height      864533             MLC21   \n",
       "3  Shell Height      864533             MLC21   \n",
       "4  Shell Height      864533             MLC21   \n",
       "\n",
       "                    ManagedAreaName Region               SampleDate  Year  \\\n",
       "0  Mosquito Lagoon Aquatic Preserve     NE  2015-06-03 00:00:00.000  2015   \n",
       "1  Mosquito Lagoon Aquatic Preserve     NE  2015-06-03 00:00:00.000  2015   \n",
       "2  Mosquito Lagoon Aquatic Preserve     NE  2015-06-03 00:00:00.000  2015   \n",
       "3  Mosquito Lagoon Aquatic Preserve     NE  2015-06-03 00:00:00.000  2015   \n",
       "4  Mosquito Lagoon Aquatic Preserve     NE  2015-06-03 00:00:00.000  2015   \n",
       "\n",
       "   ...  ReefIdentifier                     LiveDate LiveDate_Qualifier  \\\n",
       "0  ...           MLC21  2015-06-03 00:00:00.0000000              Exact   \n",
       "1  ...           MLC21  2015-06-03 00:00:00.0000000              Exact   \n",
       "2  ...           MLC21  2015-06-03 00:00:00.0000000              Exact   \n",
       "3  ...           MLC21  2015-06-03 00:00:00.0000000              Exact   \n",
       "4  ...           MLC21  2015-06-03 00:00:00.0000000              Exact   \n",
       "\n",
       "  LiveDate_MinEstDate  LiveDate_MaxEstDate SampleAge_Stdev  UniversalReefID  \\\n",
       "0                 NaN                  NaN             NaN         173590.0   \n",
       "1                 NaN                  NaN             NaN         173590.0   \n",
       "2                 NaN                  NaN             NaN         173590.0   \n",
       "3                 NaN                  NaN             NaN         173590.0   \n",
       "4                 NaN                  NaN             NaN         173590.0   \n",
       "\n",
       "   MADup          DataFileName AreaID  \n",
       "0      1  Data_5017F_Final.csv     29  \n",
       "1      1  Data_5017F_Final.csv     29  \n",
       "2      1  Data_5017F_Final.csv     29  \n",
       "3      1  Data_5017F_Final.csv     29  \n",
       "4      1  Data_5017F_Final.csv     29  \n",
       "\n",
       "[5 rows x 29 columns]"
      ]
     },
     "execution_count": 89,
     "metadata": {},
     "output_type": "execute_result"
    }
   ],
   "source": [
    "df.head()"
   ]
  },
  {
   "cell_type": "code",
   "execution_count": 90,
   "id": "09a5a1de",
   "metadata": {},
   "outputs": [
    {
     "name": "stdout",
     "output_type": "stream",
     "text": [
      "20\n"
     ]
    }
   ],
   "source": [
    "# Number of data providers\n",
    "data_providers = len(df.ManagedAreaName.unique())\n",
    "print(data_providers)"
   ]
  },
  {
   "cell_type": "code",
   "execution_count": 175,
   "id": "affd7ac5",
   "metadata": {},
   "outputs": [],
   "source": [
    "#Programs containing PercentLive data\n",
    "percent_live_programs = df[df.ParameterName=='Percent Live'].ProgramName.unique()\n",
    "n_percent_live_programs = len(percent_live_programs)\n",
    "\n",
    "#Programs containing Density data\n",
    "density_programs = df[df.ParameterName=='Density'].ProgramName.unique()\n",
    "n_density_programs = len(density_programs)"
   ]
  },
  {
   "cell_type": "code",
   "execution_count": null,
   "id": "5b35cb41",
   "metadata": {},
   "outputs": [],
   "source": []
  },
  {
   "cell_type": "code",
   "execution_count": 91,
   "id": "6a622f17",
   "metadata": {},
   "outputs": [],
   "source": [
    "programs = df.ProgramName.unique()\n",
    "parameters = df.ParameterName.unique()"
   ]
  },
  {
   "cell_type": "code",
   "execution_count": 96,
   "id": "4cdfba0f",
   "metadata": {},
   "outputs": [],
   "source": [
    "def get_plot(pID, parameter, start_year, end_year):\n",
    "    try:\n",
    "        data = df[(df.ProgramID==pID)&(df.ParameterName==parameter)]\n",
    "        data_years = data[(data.Year>=start_year)&(data.Year<=end_year)]\n",
    "    except:\n",
    "        pass\n",
    "    return data_years"
   ]
  },
  {
   "cell_type": "code",
   "execution_count": 154,
   "id": "3c8987c6",
   "metadata": {},
   "outputs": [],
   "source": [
    "new = get_plot(5017, 'Shell Height', 2015, 2018)"
   ]
  },
  {
   "cell_type": "code",
   "execution_count": 168,
   "id": "ed547b27",
   "metadata": {},
   "outputs": [
    {
     "data": {
      "text/plain": [
       "12"
      ]
     },
     "execution_count": 168,
     "metadata": {},
     "output_type": "execute_result"
    }
   ],
   "source": []
  },
  {
   "cell_type": "code",
   "execution_count": null,
   "id": "e6bb3643",
   "metadata": {},
   "outputs": [],
   "source": []
  }
 ],
 "metadata": {
  "kernelspec": {
   "display_name": "Python 3 (ipykernel)",
   "language": "python",
   "name": "python3"
  },
  "language_info": {
   "codemirror_mode": {
    "name": "ipython",
    "version": 3
   },
   "file_extension": ".py",
   "mimetype": "text/x-python",
   "name": "python",
   "nbconvert_exporter": "python",
   "pygments_lexer": "ipython3",
   "version": "3.11.4"
  }
 },
 "nbformat": 4,
 "nbformat_minor": 5
}
